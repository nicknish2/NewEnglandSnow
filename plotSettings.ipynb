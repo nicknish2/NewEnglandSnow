{
 "cells": [
  {
   "cell_type": "code",
   "execution_count": 1,
   "id": "ad6feb30-2c22-435f-a5ed-869d5a2507ba",
   "metadata": {},
   "outputs": [],
   "source": [
    "import matplotlib.pyplot as plt\n",
    "import numpy as np"
   ]
  },
  {
   "cell_type": "code",
   "execution_count": 11,
   "id": "1d4f691e-c14c-4369-b205-3d42e230db70",
   "metadata": {},
   "outputs": [],
   "source": [
    "SMALL_SIZE = 10\n",
    "MEDIUM_SIZE = 12\n",
    "BIGGER_SIZE = 14\n",
    "\n",
    "plt.rc('font', size=SMALL_SIZE)# controls default text sizes\n",
    "plt.rc('axes', titlesize=SMALL_SIZE)# fontsize of the axes title\n",
    "plt.rc('axes', labelsize=MEDIUM_SIZE)# fontsize of the x and y labels\n",
    "plt.rc('xtick', labelsize=SMALL_SIZE)# fontsize of the tick labels\n",
    "plt.rc('ytick', labelsize=SMALL_SIZE)# fontsize of the tick labels\n",
    "plt.rc('legend', fontsize=SMALL_SIZE)# legend fontsize\n",
    "plt.rc('axes', titlesize=BIGGER_SIZE)# fontsize of the figure title"
   ]
  },
  {
   "cell_type": "code",
   "execution_count": 12,
   "id": "7f6e5f20-666a-43ef-afcf-dc171b627ae3",
   "metadata": {},
   "outputs": [],
   "source": [
    "colorList = [\n",
    "    \"#a6cee3\",\"#fb9a99\",\"#fdbf6f\",\n",
    "    \"#ffff99\",\"#1f78b4\",\"#ff7f00\",\n",
    "    \"#6a3d9a\",\"#b15928\",\"#b2df8a\",\n",
    "    \"#33a02c\",\"#e31a1c\",\"#cab2d6\"\n",
    "]\n",
    "\n",
    "markerList = [\n",
    "    \".\",\"o\",\"v\",\"h\",\"*\",\n",
    "    \"^\",\"s\",\"p\",\"X\",\">\",\n",
    "    \"<\",\"+\"\n",
    "]"
   ]
  },
  {
   "cell_type": "code",
   "execution_count": 5,
   "id": "34a25ba9-e28e-4a13-bbc7-9287995d57c5",
   "metadata": {},
   "outputs": [],
   "source": [
    "## Gray shading for background lines\n",
    "greyShades = plt.cm.Greys(np.linspace(0,1,100))"
   ]
  },
  {
   "cell_type": "code",
   "execution_count": null,
   "id": "57adc68d-e654-4e8d-8600-165b480ec13e",
   "metadata": {},
   "outputs": [],
   "source": []
  }
 ],
 "metadata": {
  "kernelspec": {
   "display_name": "Python 3 (ipykernel)",
   "language": "python",
   "name": "python3"
  },
  "language_info": {
   "codemirror_mode": {
    "name": "ipython",
    "version": 3
   },
   "file_extension": ".py",
   "mimetype": "text/x-python",
   "name": "python",
   "nbconvert_exporter": "python",
   "pygments_lexer": "ipython3",
   "version": "3.10.9"
  }
 },
 "nbformat": 4,
 "nbformat_minor": 5
}
